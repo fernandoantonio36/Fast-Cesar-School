{
  "cells": [
    {
      "cell_type": "markdown",
      "metadata": {
        "id": "view-in-github",
        "colab_type": "text"
      },
      "source": [
        "<a href=\"https://colab.research.google.com/github/fernandoantonio36/Fast-Cesar-School/blob/main/Fernando_Oliveira_Hands_On_1.ipynb\" target=\"_parent\"><img src=\"https://colab.research.google.com/assets/colab-badge.svg\" alt=\"Open In Colab\"/></a>"
      ]
    },
    {
      "cell_type": "markdown",
      "id": "54077720",
      "metadata": {
        "id": "54077720"
      },
      "source": [
        "# Atividade Prática 1"
      ]
    },
    {
      "cell_type": "markdown",
      "id": "aac80fc7",
      "metadata": {
        "id": "aac80fc7"
      },
      "source": [
        "Nessa atividade iremos dar os primeiros passos \n",
        "para a tarefa de clustering (aprendizado não-supervisionado)\n",
        "é esperado que ao término dessa prática se tenha as seguintes habilidades:\n",
        "\n",
        "* Análise exploratória a partir de uma gráfico de dispersão;\n",
        "* Execução do algoritmo k-means através da lib sklearn;\n",
        "* Análise dos clusters gerados"
      ]
    },
    {
      "cell_type": "markdown",
      "id": "7826537d",
      "metadata": {
        "id": "7826537d"
      },
      "source": [
        "## passo 1: import das libs necessárias"
      ]
    },
    {
      "cell_type": "code",
      "execution_count": null,
      "id": "927de49b",
      "metadata": {
        "id": "927de49b"
      },
      "outputs": [],
      "source": [
        "import pandas as pd\n",
        "import numpy as np\n",
        "from sklearn.datasets import make_blobs\n",
        "import matplotlib.pyplot as plt\n",
        "from sklearn import metrics\n",
        "# [ALTERE AQUI] importe o k-means\n",
        "from sklearn.cluster import KMeans"
      ]
    },
    {
      "cell_type": "markdown",
      "id": "d9da12f5",
      "metadata": {
        "id": "d9da12f5"
      },
      "source": [
        "## passo 2: carregar o dataset"
      ]
    },
    {
      "cell_type": "markdown",
      "id": "3c7cade9",
      "metadata": {
        "id": "3c7cade9"
      },
      "source": [
        "Obs: iremos considerar X sendo nosso dataset e y_true o que seriam as classes dos dados"
      ]
    },
    {
      "cell_type": "code",
      "execution_count": null,
      "id": "c39d91dc",
      "metadata": {
        "id": "c39d91dc"
      },
      "outputs": [],
      "source": [
        "X, y_true = make_blobs(\n",
        "    n_samples=100, n_features=2, centers=4, cluster_std=0.4, random_state=0\n",
        ")\n",
        "\n",
        "# os dados foram carregados em um formato matricial numpy, \n",
        "# porém para facilitar as análises precisaremos converter para um\n",
        "# tipo pandas DataFrame\n",
        "X = pd.DataFrame(X)"
      ]
    },
    {
      "cell_type": "markdown",
      "id": "a6082271",
      "metadata": {
        "id": "a6082271"
      },
      "source": [
        "## passo 3: análise exploratória do dataset"
      ]
    },
    {
      "cell_type": "code",
      "execution_count": null,
      "id": "45aa8663",
      "metadata": {
        "colab": {
          "base_uri": "https://localhost:8080/",
          "height": 508
        },
        "id": "45aa8663",
        "outputId": "1b4d2385-f694-4f97-e499-bfbdb6950d3e"
      },
      "outputs": [
        {
          "output_type": "stream",
          "name": "stdout",
          "text": [
            "dimensões do dataset (exemplos, features):  (100, 2)\n",
            "\n",
            "as estatísticas básicas dos dados: \n",
            "                0           1\n",
            "count  100.000000  100.000000\n",
            "mean     0.046855    4.032004\n",
            "std      1.534099    2.519609\n",
            "min     -2.123407    0.207151\n",
            "25%     -1.413324    2.277369\n",
            "50%     -0.213944    3.669748\n",
            "75%      1.576931    5.549598\n",
            "max      2.808528    8.607273\n",
            "\n",
            "dispersão dos dados:\n"
          ]
        },
        {
          "output_type": "display_data",
          "data": {
            "image/png": "[encoded data removed]",
            "text/plain": [
              "<Figure size 432x288 with 1 Axes>"
            ]
          },
          "metadata": {
            "needs_background": "light"
          }
        }
      ],
      "source": [
        "print(\"dimensões do dataset (exemplos, features): \", X.shape)\n",
        "print(\"\\nas estatísticas básicas dos dados: \")\n",
        "print(X.describe())\n",
        "\n",
        "print(\"\\ndispersão dos dados:\")\n",
        "# [ALTERE AQUI] plote o gráfico de dispersão colocando no eixo X a feature 0 e no eixo Y a feature 1\n",
        "eixo_x = X.iloc[:,0]\n",
        "eixo_y = X.iloc[:,1]\n",
        "plt.scatter(eixo_x, eixo_y)\n",
        "plt.show()"
      ]
    },
    {
      "cell_type": "markdown",
      "id": "eb778ec4",
      "metadata": {
        "id": "eb778ec4"
      },
      "source": [
        "## passo 4: execução do k-means"
      ]
    },
    {
      "cell_type": "code",
      "execution_count": null,
      "id": "e2ba113a",
      "metadata": {
        "colab": {
          "base_uri": "https://localhost:8080/"
        },
        "id": "e2ba113a",
        "outputId": "51965756-4f45-4397-a69a-69b716c176df"
      },
      "outputs": [
        {
          "output_type": "stream",
          "name": "stdout",
          "text": [
            "[3 1 3 3 3 3 0 1 3 1 1 1 1 1 1 2 2 0 0 2 3 1 0 2 3 0 0 3 2 2 2 1 2 2 0 3 1\n",
            " 2 1 0 3 0 1 0 0 1 2 0 3 3 3 2 0 0 0 1 1 2 2 1 1 2 2 3 2 1 0 0 2 3 1 2 3 1\n",
            " 3 3 0 0 2 2 2 1 0 3 2 0 2 2 3 3 3 0 3 0 0 1 1 0 1 3]\n"
          ]
        },
        {
          "output_type": "execute_result",
          "data": {
            "text/plain": [
              "array([[-1.48886624,  3.07731162],\n",
              "       [-1.26414502,  7.77811813],\n",
              "       [ 2.00454873,  0.9520213 ],\n",
              "       [ 0.93588159,  4.3205638 ]])"
            ]
          },
          "metadata": {},
          "execution_count": 6
        }
      ],
      "source": [
        "X.head(5)\n",
        "\n",
        "\n",
        "\n",
        "# [ALTERE AQUI] Execute o k-means passando o número de clusters igual a 4 e salve na variável model\n",
        "model = KMeans(n_clusters=4).fit(X)\n",
        "\n",
        "y_predict = model.labels_\n",
        "print(y_predict)\n",
        "\n",
        "model.cluster_centers_"
      ]
    },
    {
      "cell_type": "markdown",
      "source": [
        "## passo 5: avaliação do k-means"
      ],
      "metadata": {
        "id": "12XSzcej9Pmv"
      },
      "id": "12XSzcej9Pmv"
    },
    {
      "cell_type": "code",
      "source": [
        "sil = metrics.silhouette_score(X, y_predict, metric='euclidean')\n",
        "nmi = metrics.adjusted_mutual_info_score(y_true, y_predict)\n",
        "\n",
        "print(\"Silhueta: \", sil)\n",
        "print(\"NMI: \", nmi)\n",
        "\n",
        "# check como ficou o balanceamento\n",
        "_ = pd.DataFrame(y_predict).hist()\n",
        "plt.title('balanceamento dos grupos')\n",
        "plt.show()\n",
        "\n",
        "plt.scatter(X.iloc[y_predict==0, 0], X.iloc[y_predict==0, 1], s=100, c='red')\n",
        "plt.scatter(X.iloc[y_predict==1, 0], X.iloc[y_predict==1, 1], s=100, c='blue')\n",
        "plt.scatter(X.iloc[y_predict==2, 0], X.iloc[y_predict==2, 1], s=100, c='green')\n",
        "plt.scatter(X.iloc[y_predict==3, 0], X.iloc[y_predict==3, 1], s=100, c='magenta')\n",
        "\n",
        "eixo_x = model.cluster_centers_[:, 0]\n",
        "eixo_y = model.cluster_centers_[:, 1]\n",
        "\n",
        "plt.scatter(eixo_x, eixo_y, s=100, c='cyan', marker='*')\n",
        "\n",
        "# plot de como ficou a clusterização\n",
        "# [ALTERE AQUI] plote o gráfico de dispersão para o cluster 1 e atribua a cor vermelha\n",
        "# [ALTERE AQUI] plote o gráfico de dispersão para o cluster 2 e atribua a cor azul\n",
        "# [ALTERE AQUI] plote o gráfico de dispersão para o cluster 3 e atribua a cor verde\n",
        "# [ALTERE AQUI] plote o gráfico de dispersão para o cluster 4 e atribua a cor magenta\n",
        "\n",
        "# [ALTERE AQUI] plote o gráfico de dispersão para os centróides e atribua a cor amarela\n",
        "plt.title('Clustering')\n",
        "plt.xlabel('feature 1')\n",
        "plt.ylabel('feature 2')\n",
        "plt.show()"
      ],
      "metadata": {
        "id": "wpKM4giQ9TQY",
        "colab": {
          "base_uri": "https://localhost:8080/",
          "height": 594
        },
        "outputId": "c1a7f4f8-e72f-49e8-ffd1-9a7160115a36"
      },
      "id": "wpKM4giQ9TQY",
      "execution_count": null,
      "outputs": [
        {
          "output_type": "stream",
          "name": "stdout",
          "text": [
            "Silhueta:  0.7697826124517921\n",
            "NMI:  1.0\n"
          ]
        },
        {
          "output_type": "display_data",
          "data": {
            "image/png": "[encoded data removed]",
            "text/plain": [
              "<Figure size 432x288 with 1 Axes>"
            ]
          },
          "metadata": {
            "needs_background": "light"
          }
        },
        {
          "output_type": "display_data",
          "data": {
            "image/png": "[encoded data removed]",
            "text/plain": [
              "<Figure size 432x288 with 1 Axes>"
            ]
          },
          "metadata": {
            "needs_background": "light"
          }
        }
      ]
    }
  ],
  "metadata": {
    "kernelspec": {
      "display_name": "Python 3 (ipykernel)",
      "language": "python",
      "name": "python3"
    },
    "language_info": {
      "codemirror_mode": {
        "name": "ipython",
        "version": 3
      },
      "file_extension": ".py",
      "mimetype": "text/x-python",
      "name": "python",
      "nbconvert_exporter": "python",
      "pygments_lexer": "ipython3",
      "version": "3.9.7"
    },
    "colab": {
      "name": "Fernando Oliveira -  Hands-On 1.ipynb",
      "provenance": [],
      "collapsed_sections": [],
      "include_colab_link": true
    }
  },
  "nbformat": 4,
  "nbformat_minor": 5
}